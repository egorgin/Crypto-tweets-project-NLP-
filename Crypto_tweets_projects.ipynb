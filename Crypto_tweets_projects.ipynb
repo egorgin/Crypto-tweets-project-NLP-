{
 "cells": [
  {
   "cell_type": "code",
   "execution_count": 1,
   "id": "99ac3d90",
   "metadata": {},
   "outputs": [],
   "source": [
    "import numpy as np\n",
    "import pandas as pd\n",
    "import transformers\n",
    "from transformers import pipeline\n",
    "import seaborn as sns\n",
    "import torch"
   ]
  },
  {
   "cell_type": "code",
   "execution_count": 2,
   "id": "7f8b9622",
   "metadata": {},
   "outputs": [
    {
     "data": {
      "text/html": [
       "<div>\n",
       "<style scoped>\n",
       "    .dataframe tbody tr th:only-of-type {\n",
       "        vertical-align: middle;\n",
       "    }\n",
       "\n",
       "    .dataframe tbody tr th {\n",
       "        vertical-align: top;\n",
       "    }\n",
       "\n",
       "    .dataframe thead th {\n",
       "        text-align: right;\n",
       "    }\n",
       "</style>\n",
       "<table border=\"1\" class=\"dataframe\">\n",
       "  <thead>\n",
       "    <tr style=\"text-align: right;\">\n",
       "      <th></th>\n",
       "      <th>Unnamed: 0</th>\n",
       "      <th>Date</th>\n",
       "      <th>Username</th>\n",
       "      <th>Content</th>\n",
       "      <th>URL</th>\n",
       "      <th>Hashtags</th>\n",
       "    </tr>\n",
       "  </thead>\n",
       "  <tbody>\n",
       "    <tr>\n",
       "      <th>0</th>\n",
       "      <td>0</td>\n",
       "      <td>2022-11-30 11:53:21+00:00</td>\n",
       "      <td>0xEthereumYoda</td>\n",
       "      <td>#Ethereum price update: \\n\\n#ETH $1269.23 USD\\...</td>\n",
       "      <td>https://twitter.com/0xEthereumYoda/status/1597...</td>\n",
       "      <td>['Ethereum', 'ETH', 'Bitcoin', 'BTC', 'altcoin...</td>\n",
       "    </tr>\n",
       "    <tr>\n",
       "      <th>1</th>\n",
       "      <td>1</td>\n",
       "      <td>2022-11-30 11:53:21+00:00</td>\n",
       "      <td>Lawrenc32984128</td>\n",
       "      <td>@mtmalinen @ecb Do well to understand that eve...</td>\n",
       "      <td>https://twitter.com/Lawrenc32984128/status/159...</td>\n",
       "      <td>['BTC']</td>\n",
       "    </tr>\n",
       "    <tr>\n",
       "      <th>2</th>\n",
       "      <td>2</td>\n",
       "      <td>2022-11-30 11:53:21+00:00</td>\n",
       "      <td>NITESHP55784410</td>\n",
       "      <td>Kayla #Ethereum Harold #世界杯 Egbert #百家乐 Lavern...</td>\n",
       "      <td>https://twitter.com/NITESHP55784410/status/159...</td>\n",
       "      <td>['Ethereum', '世界杯', '百家乐', '世界杯买球']</td>\n",
       "    </tr>\n",
       "    <tr>\n",
       "      <th>3</th>\n",
       "      <td>3</td>\n",
       "      <td>2022-11-30 11:53:20+00:00</td>\n",
       "      <td>817coin</td>\n",
       "      <td>#Bitcoin https://t.co/2koLlCvCri https://t.co/...</td>\n",
       "      <td>https://twitter.com/817coin/status/15979217174...</td>\n",
       "      <td>['Bitcoin']</td>\n",
       "    </tr>\n",
       "    <tr>\n",
       "      <th>4</th>\n",
       "      <td>4</td>\n",
       "      <td>2022-11-30 11:53:18+00:00</td>\n",
       "      <td>slamtoken</td>\n",
       "      <td>Yesterday we made a 3,000 SLAM buyback and loc...</td>\n",
       "      <td>https://twitter.com/slamtoken/status/159792171...</td>\n",
       "      <td>['slamtoken', 'bnb', 'bsc']</td>\n",
       "    </tr>\n",
       "  </tbody>\n",
       "</table>\n",
       "</div>"
      ],
      "text/plain": [
       "   Unnamed: 0                       Date         Username  \\\n",
       "0           0  2022-11-30 11:53:21+00:00   0xEthereumYoda   \n",
       "1           1  2022-11-30 11:53:21+00:00  Lawrenc32984128   \n",
       "2           2  2022-11-30 11:53:21+00:00  NITESHP55784410   \n",
       "3           3  2022-11-30 11:53:20+00:00          817coin   \n",
       "4           4  2022-11-30 11:53:18+00:00        slamtoken   \n",
       "\n",
       "                                             Content  \\\n",
       "0  #Ethereum price update: \\n\\n#ETH $1269.23 USD\\...   \n",
       "1  @mtmalinen @ecb Do well to understand that eve...   \n",
       "2  Kayla #Ethereum Harold #世界杯 Egbert #百家乐 Lavern...   \n",
       "3  #Bitcoin https://t.co/2koLlCvCri https://t.co/...   \n",
       "4  Yesterday we made a 3,000 SLAM buyback and loc...   \n",
       "\n",
       "                                                 URL  \\\n",
       "0  https://twitter.com/0xEthereumYoda/status/1597...   \n",
       "1  https://twitter.com/Lawrenc32984128/status/159...   \n",
       "2  https://twitter.com/NITESHP55784410/status/159...   \n",
       "3  https://twitter.com/817coin/status/15979217174...   \n",
       "4  https://twitter.com/slamtoken/status/159792171...   \n",
       "\n",
       "                                            Hashtags  \n",
       "0  ['Ethereum', 'ETH', 'Bitcoin', 'BTC', 'altcoin...  \n",
       "1                                            ['BTC']  \n",
       "2                ['Ethereum', '世界杯', '百家乐', '世界杯买球']  \n",
       "3                                        ['Bitcoin']  \n",
       "4                        ['slamtoken', 'bnb', 'bsc']  "
      ]
     },
     "execution_count": 2,
     "metadata": {},
     "output_type": "execute_result"
    }
   ],
   "source": [
    "df=pd.read_csv(r'C:\\Users\\ella.gorgin\\Dropbox\\Data_Analytics\\Data_sets\\crypto_tweets\\crypto_10k_tweets_(2021_2022Nov).csv', lineterminator='\\n')\n",
    "df.head()"
   ]
  },
  {
   "cell_type": "code",
   "execution_count": 3,
   "id": "b1c0a20b",
   "metadata": {},
   "outputs": [],
   "source": [
    "df=df.drop('Unnamed: 0', axis=1)"
   ]
  },
  {
   "cell_type": "code",
   "execution_count": 4,
   "id": "d6575c48",
   "metadata": {},
   "outputs": [],
   "source": [
    "df=df.head(10)"
   ]
  },
  {
   "cell_type": "markdown",
   "id": "b35b20a7",
   "metadata": {},
   "source": [
    "# pipeline"
   ]
  },
  {
   "cell_type": "code",
   "execution_count": 5,
   "id": "9b306152",
   "metadata": {
    "scrolled": true
   },
   "outputs": [
    {
     "name": "stderr",
     "output_type": "stream",
     "text": [
      "No model was supplied, defaulted to distilbert-base-uncased-finetuned-sst-2-english and revision af0f99b (https://huggingface.co/distilbert-base-uncased-finetuned-sst-2-english).\n",
      "Using a pipeline without specifying a model name and revision in production is not recommended.\n"
     ]
    }
   ],
   "source": [
    "pipeline = pipeline('sentiment-analysis')"
   ]
  },
  {
   "cell_type": "code",
   "execution_count": 6,
   "id": "13cea3e8",
   "metadata": {},
   "outputs": [],
   "source": [
    "strings = [\"\".join(i) for i in df['Content']]\n"
   ]
  },
  {
   "cell_type": "code",
   "execution_count": 8,
   "id": "f21d56fc",
   "metadata": {},
   "outputs": [
    {
     "data": {
      "application/vnd.jupyter.widget-view+json": {
       "model_id": "163e2c82fe084b43acecbc78d38f1f6a",
       "version_major": 2,
       "version_minor": 0
      },
      "text/plain": [
       "  0%|          | 0/10 [00:00<?, ?it/s]"
      ]
     },
     "metadata": {},
     "output_type": "display_data"
    }
   ],
   "source": [
    "from tqdm.notebook import tqdm\n",
    "pip=[]\n",
    "label=[]\n",
    "for i, row in tqdm(df.iterrows(), total=len(df)):\n",
    "        pipel = pipeline(row['Content'])\n",
    "        pip.append(pipel[0]['score'])\n",
    "        label.append(pipel[0]['label'])\n",
    "    "
   ]
  },
  {
   "cell_type": "code",
   "execution_count": 9,
   "id": "c3ccd6ed",
   "metadata": {},
   "outputs": [
    {
     "data": {
      "text/html": [
       "<div>\n",
       "<style scoped>\n",
       "    .dataframe tbody tr th:only-of-type {\n",
       "        vertical-align: middle;\n",
       "    }\n",
       "\n",
       "    .dataframe tbody tr th {\n",
       "        vertical-align: top;\n",
       "    }\n",
       "\n",
       "    .dataframe thead th {\n",
       "        text-align: right;\n",
       "    }\n",
       "</style>\n",
       "<table border=\"1\" class=\"dataframe\">\n",
       "  <thead>\n",
       "    <tr style=\"text-align: right;\">\n",
       "      <th></th>\n",
       "      <th>Date</th>\n",
       "      <th>Username</th>\n",
       "      <th>Content</th>\n",
       "      <th>URL</th>\n",
       "      <th>Hashtags</th>\n",
       "      <th>pip_label</th>\n",
       "      <th>pip_score</th>\n",
       "    </tr>\n",
       "  </thead>\n",
       "  <tbody>\n",
       "    <tr>\n",
       "      <th>0</th>\n",
       "      <td>2022-11-30 11:53:21+00:00</td>\n",
       "      <td>0xEthereumYoda</td>\n",
       "      <td>#Ethereum price update: \\n\\n#ETH $1269.23 USD\\...</td>\n",
       "      <td>https://twitter.com/0xEthereumYoda/status/1597...</td>\n",
       "      <td>['Ethereum', 'ETH', 'Bitcoin', 'BTC', 'altcoin...</td>\n",
       "      <td>NEGATIVE</td>\n",
       "      <td>0.990652</td>\n",
       "    </tr>\n",
       "    <tr>\n",
       "      <th>1</th>\n",
       "      <td>2022-11-30 11:53:21+00:00</td>\n",
       "      <td>Lawrenc32984128</td>\n",
       "      <td>@mtmalinen @ecb Do well to understand that eve...</td>\n",
       "      <td>https://twitter.com/Lawrenc32984128/status/159...</td>\n",
       "      <td>['BTC']</td>\n",
       "      <td>POSITIVE</td>\n",
       "      <td>0.999539</td>\n",
       "    </tr>\n",
       "    <tr>\n",
       "      <th>2</th>\n",
       "      <td>2022-11-30 11:53:21+00:00</td>\n",
       "      <td>NITESHP55784410</td>\n",
       "      <td>Kayla #Ethereum Harold #世界杯 Egbert #百家乐 Lavern...</td>\n",
       "      <td>https://twitter.com/NITESHP55784410/status/159...</td>\n",
       "      <td>['Ethereum', '世界杯', '百家乐', '世界杯买球']</td>\n",
       "      <td>NEGATIVE</td>\n",
       "      <td>0.990453</td>\n",
       "    </tr>\n",
       "    <tr>\n",
       "      <th>3</th>\n",
       "      <td>2022-11-30 11:53:20+00:00</td>\n",
       "      <td>817coin</td>\n",
       "      <td>#Bitcoin https://t.co/2koLlCvCri https://t.co/...</td>\n",
       "      <td>https://twitter.com/817coin/status/15979217174...</td>\n",
       "      <td>['Bitcoin']</td>\n",
       "      <td>NEGATIVE</td>\n",
       "      <td>0.996596</td>\n",
       "    </tr>\n",
       "    <tr>\n",
       "      <th>4</th>\n",
       "      <td>2022-11-30 11:53:18+00:00</td>\n",
       "      <td>slamtoken</td>\n",
       "      <td>Yesterday we made a 3,000 SLAM buyback and loc...</td>\n",
       "      <td>https://twitter.com/slamtoken/status/159792171...</td>\n",
       "      <td>['slamtoken', 'bnb', 'bsc']</td>\n",
       "      <td>POSITIVE</td>\n",
       "      <td>0.993540</td>\n",
       "    </tr>\n",
       "  </tbody>\n",
       "</table>\n",
       "</div>"
      ],
      "text/plain": [
       "                        Date         Username  \\\n",
       "0  2022-11-30 11:53:21+00:00   0xEthereumYoda   \n",
       "1  2022-11-30 11:53:21+00:00  Lawrenc32984128   \n",
       "2  2022-11-30 11:53:21+00:00  NITESHP55784410   \n",
       "3  2022-11-30 11:53:20+00:00          817coin   \n",
       "4  2022-11-30 11:53:18+00:00        slamtoken   \n",
       "\n",
       "                                             Content  \\\n",
       "0  #Ethereum price update: \\n\\n#ETH $1269.23 USD\\...   \n",
       "1  @mtmalinen @ecb Do well to understand that eve...   \n",
       "2  Kayla #Ethereum Harold #世界杯 Egbert #百家乐 Lavern...   \n",
       "3  #Bitcoin https://t.co/2koLlCvCri https://t.co/...   \n",
       "4  Yesterday we made a 3,000 SLAM buyback and loc...   \n",
       "\n",
       "                                                 URL  \\\n",
       "0  https://twitter.com/0xEthereumYoda/status/1597...   \n",
       "1  https://twitter.com/Lawrenc32984128/status/159...   \n",
       "2  https://twitter.com/NITESHP55784410/status/159...   \n",
       "3  https://twitter.com/817coin/status/15979217174...   \n",
       "4  https://twitter.com/slamtoken/status/159792171...   \n",
       "\n",
       "                                            Hashtags pip_label  pip_score  \n",
       "0  ['Ethereum', 'ETH', 'Bitcoin', 'BTC', 'altcoin...  NEGATIVE   0.990652  \n",
       "1                                            ['BTC']  POSITIVE   0.999539  \n",
       "2                ['Ethereum', '世界杯', '百家乐', '世界杯买球']  NEGATIVE   0.990453  \n",
       "3                                        ['Bitcoin']  NEGATIVE   0.996596  \n",
       "4                        ['slamtoken', 'bnb', 'bsc']  POSITIVE   0.993540  "
      ]
     },
     "execution_count": 9,
     "metadata": {},
     "output_type": "execute_result"
    }
   ],
   "source": [
    "df['pip_label']=label\n",
    "df['pip_score']=pip\n",
    "df.head()"
   ]
  },
  {
   "cell_type": "markdown",
   "id": "943f71cf",
   "metadata": {},
   "source": [
    "# Roberta"
   ]
  },
  {
   "cell_type": "code",
   "execution_count": 10,
   "id": "f13e2a63",
   "metadata": {},
   "outputs": [],
   "source": [
    "from transformers import AutoTokenizer\n",
    "from transformers import AutoModelForSequenceClassification\n",
    "from scipy.special import softmax\n",
    "# model\n",
    "MODEL = f\"cardiffnlp/twitter-roberta-base-sentiment\"\n",
    "tokenizer = AutoTokenizer.from_pretrained(MODEL)\n",
    "model = AutoModelForSequenceClassification.from_pretrained(MODEL)"
   ]
  },
  {
   "cell_type": "code",
   "execution_count": 11,
   "id": "094eed5f",
   "metadata": {
    "scrolled": true
   },
   "outputs": [
    {
     "name": "stderr",
     "output_type": "stream",
     "text": [
      "100%|██████████████████████████████████████████████████████████████████████████████████| 10/10 [00:03<00:00,  2.56it/s]\n"
     ]
    }
   ],
   "source": [
    "from tqdm import tqdm \n",
    "\n",
    "tweet_words = []\n",
    "neg=[]\n",
    "neu=[]\n",
    "pos=[]\n",
    "for ind, tweet in tqdm(df.iterrows(), total=len(df)):    \n",
    "    for word in tweet['Content'].split(' '):\n",
    "        word = '@user' if word.startswith('@') and len(word) > 1 else word\n",
    "        word = 'http' if word.startswith('http') else word\n",
    "        word = 'hastag' if word.startswith('#') else word\n",
    "        tweet_words.append(word)\n",
    "    tweet_processed = \" \".join(tweet_words)\n",
    "    encoded_tweet = tokenizer(tweet_processed, return_tensors='pt')\n",
    "    output = model(**encoded_tweet)\n",
    "    scores = softmax(output[0][0].detach().numpy())  \n",
    "    neg.append(scores[0])\n",
    "    neu.append(scores[1])\n",
    "    pos.append(scores[2])\n",
    "\n"
   ]
  },
  {
   "cell_type": "code",
   "execution_count": 12,
   "id": "9931465b",
   "metadata": {},
   "outputs": [
    {
     "data": {
      "text/html": [
       "<div>\n",
       "<style scoped>\n",
       "    .dataframe tbody tr th:only-of-type {\n",
       "        vertical-align: middle;\n",
       "    }\n",
       "\n",
       "    .dataframe tbody tr th {\n",
       "        vertical-align: top;\n",
       "    }\n",
       "\n",
       "    .dataframe thead th {\n",
       "        text-align: right;\n",
       "    }\n",
       "</style>\n",
       "<table border=\"1\" class=\"dataframe\">\n",
       "  <thead>\n",
       "    <tr style=\"text-align: right;\">\n",
       "      <th></th>\n",
       "      <th>Date</th>\n",
       "      <th>Username</th>\n",
       "      <th>Content</th>\n",
       "      <th>URL</th>\n",
       "      <th>Hashtags</th>\n",
       "      <th>pip_label</th>\n",
       "      <th>pip_score</th>\n",
       "      <th>Roberta_Negative</th>\n",
       "      <th>Roberta_Neutral</th>\n",
       "      <th>Roberta_Positive</th>\n",
       "    </tr>\n",
       "  </thead>\n",
       "  <tbody>\n",
       "    <tr>\n",
       "      <th>0</th>\n",
       "      <td>2022-11-30 11:53:21+00:00</td>\n",
       "      <td>0xEthereumYoda</td>\n",
       "      <td>#Ethereum price update: \\n\\n#ETH $1269.23 USD\\...</td>\n",
       "      <td>https://twitter.com/0xEthereumYoda/status/1597...</td>\n",
       "      <td>['Ethereum', 'ETH', 'Bitcoin', 'BTC', 'altcoin...</td>\n",
       "      <td>NEGATIVE</td>\n",
       "      <td>0.990652</td>\n",
       "      <td>0.042857</td>\n",
       "      <td>0.901389</td>\n",
       "      <td>0.055754</td>\n",
       "    </tr>\n",
       "    <tr>\n",
       "      <th>1</th>\n",
       "      <td>2022-11-30 11:53:21+00:00</td>\n",
       "      <td>Lawrenc32984128</td>\n",
       "      <td>@mtmalinen @ecb Do well to understand that eve...</td>\n",
       "      <td>https://twitter.com/Lawrenc32984128/status/159...</td>\n",
       "      <td>['BTC']</td>\n",
       "      <td>POSITIVE</td>\n",
       "      <td>0.999539</td>\n",
       "      <td>0.006791</td>\n",
       "      <td>0.193536</td>\n",
       "      <td>0.799673</td>\n",
       "    </tr>\n",
       "    <tr>\n",
       "      <th>2</th>\n",
       "      <td>2022-11-30 11:53:21+00:00</td>\n",
       "      <td>NITESHP55784410</td>\n",
       "      <td>Kayla #Ethereum Harold #世界杯 Egbert #百家乐 Lavern...</td>\n",
       "      <td>https://twitter.com/NITESHP55784410/status/159...</td>\n",
       "      <td>['Ethereum', '世界杯', '百家乐', '世界杯买球']</td>\n",
       "      <td>NEGATIVE</td>\n",
       "      <td>0.990453</td>\n",
       "      <td>0.007306</td>\n",
       "      <td>0.224752</td>\n",
       "      <td>0.767941</td>\n",
       "    </tr>\n",
       "    <tr>\n",
       "      <th>3</th>\n",
       "      <td>2022-11-30 11:53:20+00:00</td>\n",
       "      <td>817coin</td>\n",
       "      <td>#Bitcoin https://t.co/2koLlCvCri https://t.co/...</td>\n",
       "      <td>https://twitter.com/817coin/status/15979217174...</td>\n",
       "      <td>['Bitcoin']</td>\n",
       "      <td>NEGATIVE</td>\n",
       "      <td>0.996596</td>\n",
       "      <td>0.007497</td>\n",
       "      <td>0.230922</td>\n",
       "      <td>0.761581</td>\n",
       "    </tr>\n",
       "    <tr>\n",
       "      <th>4</th>\n",
       "      <td>2022-11-30 11:53:18+00:00</td>\n",
       "      <td>slamtoken</td>\n",
       "      <td>Yesterday we made a 3,000 SLAM buyback and loc...</td>\n",
       "      <td>https://twitter.com/slamtoken/status/159792171...</td>\n",
       "      <td>['slamtoken', 'bnb', 'bsc']</td>\n",
       "      <td>POSITIVE</td>\n",
       "      <td>0.993540</td>\n",
       "      <td>0.006447</td>\n",
       "      <td>0.209190</td>\n",
       "      <td>0.784363</td>\n",
       "    </tr>\n",
       "  </tbody>\n",
       "</table>\n",
       "</div>"
      ],
      "text/plain": [
       "                        Date         Username  \\\n",
       "0  2022-11-30 11:53:21+00:00   0xEthereumYoda   \n",
       "1  2022-11-30 11:53:21+00:00  Lawrenc32984128   \n",
       "2  2022-11-30 11:53:21+00:00  NITESHP55784410   \n",
       "3  2022-11-30 11:53:20+00:00          817coin   \n",
       "4  2022-11-30 11:53:18+00:00        slamtoken   \n",
       "\n",
       "                                             Content  \\\n",
       "0  #Ethereum price update: \\n\\n#ETH $1269.23 USD\\...   \n",
       "1  @mtmalinen @ecb Do well to understand that eve...   \n",
       "2  Kayla #Ethereum Harold #世界杯 Egbert #百家乐 Lavern...   \n",
       "3  #Bitcoin https://t.co/2koLlCvCri https://t.co/...   \n",
       "4  Yesterday we made a 3,000 SLAM buyback and loc...   \n",
       "\n",
       "                                                 URL  \\\n",
       "0  https://twitter.com/0xEthereumYoda/status/1597...   \n",
       "1  https://twitter.com/Lawrenc32984128/status/159...   \n",
       "2  https://twitter.com/NITESHP55784410/status/159...   \n",
       "3  https://twitter.com/817coin/status/15979217174...   \n",
       "4  https://twitter.com/slamtoken/status/159792171...   \n",
       "\n",
       "                                            Hashtags pip_label  pip_score  \\\n",
       "0  ['Ethereum', 'ETH', 'Bitcoin', 'BTC', 'altcoin...  NEGATIVE   0.990652   \n",
       "1                                            ['BTC']  POSITIVE   0.999539   \n",
       "2                ['Ethereum', '世界杯', '百家乐', '世界杯买球']  NEGATIVE   0.990453   \n",
       "3                                        ['Bitcoin']  NEGATIVE   0.996596   \n",
       "4                        ['slamtoken', 'bnb', 'bsc']  POSITIVE   0.993540   \n",
       "\n",
       "   Roberta_Negative  Roberta_Neutral  Roberta_Positive  \n",
       "0          0.042857         0.901389          0.055754  \n",
       "1          0.006791         0.193536          0.799673  \n",
       "2          0.007306         0.224752          0.767941  \n",
       "3          0.007497         0.230922          0.761581  \n",
       "4          0.006447         0.209190          0.784363  "
      ]
     },
     "execution_count": 12,
     "metadata": {},
     "output_type": "execute_result"
    }
   ],
   "source": [
    "df['Roberta_Negative']=neg\n",
    "df['Roberta_Neutral']=neu\n",
    "df['Roberta_Positive']=pos\n",
    "df.head()"
   ]
  },
  {
   "cell_type": "code",
   "execution_count": null,
   "id": "1e45152d",
   "metadata": {},
   "outputs": [],
   "source": []
  }
 ],
 "metadata": {
  "kernelspec": {
   "display_name": "Python 3 (ipykernel)",
   "language": "python",
   "name": "python3"
  },
  "language_info": {
   "codemirror_mode": {
    "name": "ipython",
    "version": 3
   },
   "file_extension": ".py",
   "mimetype": "text/x-python",
   "name": "python",
   "nbconvert_exporter": "python",
   "pygments_lexer": "ipython3",
   "version": "3.9.7"
  }
 },
 "nbformat": 4,
 "nbformat_minor": 5
}
